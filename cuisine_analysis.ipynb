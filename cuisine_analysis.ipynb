{
 "cells": [
  {
   "attachments": {},
   "cell_type": "markdown",
   "metadata": {},
   "source": [
    "# Cuisine Analysis\n",
    "---\n",
    "## Goal\n",
    "- Use Spoonacular API and the U.S. Department of Health and Human Services' 2015 Dietary Guidelines to evaluate the macronutrient profiles and accessibility for people with health-related dietary restrictions of a set cuisines.\n",
    "## Questions\n",
    "- What are the macronutrient profiles of certain cuisines?\n",
    "- Which cuisines are most accessible to people with certain food intolerances/allergies?\n",
    "- Is there a correlation between balanced macronutrient profiles and accessibility for people with certain food intolerances/allergies?\n",
    "- Which cuisine is offers the most balanced macronutrient profile for an adult between the ages of 19-50, while being accessible to adults with food intolerances/allergies?\n",
    "## Definitions\n",
    "- \"Macronutrient profiles\": the ratio of the percentages of carbohydrates, protein, and fat on average for a servings of a recipe of a given cuisine\n",
    "- \"Accessibility\": the percentage of recipes for a given cuisine that does not contain gluten or dairy\n",
    "- \"Balanced\": description of a macronutrient profile that matches (within 5 percentage points) the recommended nutritional goals for carbohydrates, protein, and total fat for male and female adults ages 19-50\n",
    "---"
   ]
  },
  {
   "attachments": {},
   "cell_type": "markdown",
   "metadata": {},
   "source": [
    "# DataFrame creation"
   ]
  },
  {
   "cell_type": "code",
   "execution_count": 5,
   "metadata": {},
   "outputs": [],
   "source": [
    "# Dependencies and API key\n",
    "import pandas as pd\n",
    "import matplotlib.pyplot as plt\n",
    "import statistics as stats\n",
    "import scipy.stats\n",
    "import json \n",
    "import requests\n",
    "\n",
    "from API_key import API_key"
   ]
  },
  {
   "cell_type": "code",
   "execution_count": 6,
   "metadata": {},
   "outputs": [
    {
     "data": {
      "text/plain": [
       "[{'ID': 715424},\n",
       " {'ID': 646512},\n",
       " {'ID': 1046982},\n",
       " {'ID': 642540},\n",
       " {'ID': 639392},\n",
       " {'ID': 644581},\n",
       " {'ID': 633837},\n",
       " {'ID': 660395},\n",
       " {'ID': 638552},\n",
       " {'ID': 638764},\n",
       " {'ID': 660288},\n",
       " {'ID': 795749},\n",
       " {'ID': 636573},\n",
       " {'ID': 637631},\n",
       " {'ID': 642695},\n",
       " {'ID': 1096277},\n",
       " {'ID': 775621},\n",
       " {'ID': 637897},\n",
       " {'ID': 673457},\n",
       " {'ID': 662376},\n",
       " {'ID': 637265},\n",
       " {'ID': 657226},\n",
       " {'ID': 649141},\n",
       " {'ID': 641627},\n",
       " {'ID': 634888},\n",
       " {'ID': 1095894},\n",
       " {'ID': 635059},\n",
       " {'ID': 1697611},\n",
       " {'ID': 641845},\n",
       " {'ID': 638549},\n",
       " {'ID': 664011},\n",
       " {'ID': 660273},\n",
       " {'ID': 610281},\n",
       " {'ID': 662391},\n",
       " {'ID': 991010},\n",
       " {'ID': 650377},\n",
       " {'ID': 651190},\n",
       " {'ID': 637102},\n",
       " {'ID': 650546},\n",
       " {'ID': 1066893},\n",
       " {'ID': 1096060},\n",
       " {'ID': 665146},\n",
       " {'ID': 659058},\n",
       " {'ID': 716426},\n",
       " {'ID': 716311},\n",
       " {'ID': 644826},\n",
       " {'ID': 660231},\n",
       " {'ID': 663150},\n",
       " {'ID': 638642},\n",
       " {'ID': 638649},\n",
       " {'ID': 638369},\n",
       " {'ID': 663169},\n",
       " {'ID': 646425},\n",
       " {'ID': 656777},\n",
       " {'ID': 638722},\n",
       " {'ID': 667701},\n",
       " {'ID': 638714},\n",
       " {'ID': 643808},\n",
       " {'ID': 1095843},\n",
       " {'ID': 633093},\n",
       " {'ID': 658270},\n",
       " {'ID': 662422},\n",
       " {'ID': 642138},\n",
       " {'ID': 649073},\n",
       " {'ID': 660707},\n",
       " {'ID': 638717},\n",
       " {'ID': 638668},\n",
       " {'ID': 659038},\n",
       " {'ID': 643786},\n",
       " {'ID': 643832},\n",
       " {'ID': 638631},\n",
       " {'ID': 659906},\n",
       " {'ID': 682619},\n",
       " {'ID': 652354},\n",
       " {'ID': 648475},\n",
       " {'ID': 662744},\n",
       " {'ID': 638693},\n",
       " {'ID': 643011},\n",
       " {'ID': 640323},\n",
       " {'ID': 649129},\n",
       " {'ID': 664551},\n",
       " {'ID': 664650},\n",
       " {'ID': 638729},\n",
       " {'ID': 664624},\n",
       " {'ID': 642125},\n",
       " {'ID': 639741},\n",
       " {'ID': 795751},\n",
       " {'ID': 640062},\n",
       " {'ID': 715421},\n",
       " {'ID': 715543},\n",
       " {'ID': 715533},\n",
       " {'ID': 715391},\n",
       " {'ID': 975070},\n",
       " {'ID': 640117},\n",
       " {'ID': 715567},\n",
       " {'ID': 637157},\n",
       " {'ID': 664501},\n",
       " {'ID': 645856},\n",
       " {'ID': 716290},\n",
       " {'ID': 658180},\n",
       " {'ID': 638588},\n",
       " {'ID': 157399},\n",
       " {'ID': 643061},\n",
       " {'ID': 715438},\n",
       " {'ID': 635058},\n",
       " {'ID': 1697763},\n",
       " {'ID': 1096017},\n",
       " {'ID': 659674},\n",
       " {'ID': 645711},\n",
       " {'ID': 645863},\n",
       " {'ID': 635291},\n",
       " {'ID': 651977},\n",
       " {'ID': 644044},\n",
       " {'ID': 1096057},\n",
       " {'ID': 1646941},\n",
       " {'ID': 659158},\n",
       " {'ID': 1096005},\n",
       " {'ID': 659174},\n",
       " {'ID': 635077},\n",
       " {'ID': 661188},\n",
       " {'ID': 664025},\n",
       " {'ID': 511707},\n",
       " {'ID': 645730},\n",
       " {'ID': 646427},\n",
       " {'ID': 650798},\n",
       " {'ID': 1095842},\n",
       " {'ID': 645988},\n",
       " {'ID': 660943},\n",
       " {'ID': 639413}]"
      ]
     },
     "execution_count": 6,
     "metadata": {},
     "output_type": "execute_result"
    }
   ],
   "source": [
    "#Retrieve 43 recipe IDs per cuisine (American, Chinese, Mexican)\n",
    "cuisines = [\"American\", \"Chinese\", \"Mexican\"] \n",
    "recipe_data = []\n",
    "\n",
    "base_url = \"https://api.spoonacular.com/recipes/complexSearch\"\n",
    "\n",
    "number = 43\n",
    "\n",
    "# for cuisine in cuisines:\n",
    "for cuisine in cuisines:  \n",
    "    target_url = f\"{base_url}?apiKey={API_key}&cuisine={cuisine}&number={number}\"\n",
    "    \n",
    "    recipe_info = requests.get(target_url).json()\n",
    "    \n",
    "# Parse out each ID in recipe batch\n",
    "    for i in range(0, 43):\n",
    "        recipe_id = recipe_info[\"results\"][i][\"id\"]\n",
    "        recipe_data.append({\"ID\": recipe_id})\n",
    "\n",
    "# print(json.dumps(recipe_info, indent=4, sort_keys=True))    \n",
    "recipe_data\n"
   ]
  },
  {
   "cell_type": "code",
   "execution_count": 7,
   "metadata": {},
   "outputs": [],
   "source": [
    "#Convert recipe_data into a list of recipe IDs\n",
    "recipe_id_list = [*[list(idx.values()) for idx in recipe_data ]]\n",
    "recipe_id_list = [element for innerList in recipe_id_list for element in innerList]\n",
    "recipe_id_list_string = map(str, recipe_id_list)\n",
    "recipe_id_list_string = (','.join(recipe_id_list_string))\n",
    "# print(len(recipe_id_list))"
   ]
  },
  {
   "cell_type": "code",
   "execution_count": 8,
   "metadata": {},
   "outputs": [],
   "source": [
    "#split recipe_id_list for processing\n",
    "recipe_id_list_pt1 = recipe_id_list[:len(recipe_id_list)//2]\n",
    "recipe_id_list_pt2 = recipe_id_list[len(recipe_id_list)//2:]"
   ]
  },
  {
   "cell_type": "code",
   "execution_count": 9,
   "metadata": {},
   "outputs": [],
   "source": [
    "#TEST REQUEST AND  VIEW JSON FORMAT\n",
    "# base_url_2 = \"https://api.spoonacular.com/recipes\"\n",
    "# target_url_2 = f\"{base_url_2}/639413/information?apiKey={API_key}&includeNutrition=True\"\n",
    "# recipe_info_2 = requests.get(target_url_2).json()\n",
    "\n",
    "# with open(\"myTest.json\", \"w\") as f:\n",
    "#   json.dump(recipe_info_2, f, indent=2)\n",
    "# f.close()"
   ]
  },
  {
   "cell_type": "code",
   "execution_count": 10,
   "metadata": {},
   "outputs": [
    {
     "name": "stdout",
     "output_type": "stream",
     "text": [
      "Beginning Data Retrieval\n",
      "------------------------\n",
      "Processing 715424\n",
      "Processing 646512\n",
      "Processing 1046982\n",
      "Processing 642540\n",
      "Processing 639392\n",
      "Processing 644581\n",
      "Processing 633837\n",
      "Processing 660395\n",
      "Processing 638552\n",
      "Processing 638764\n",
      "Processing 660288\n",
      "Processing 795749\n",
      "Processing 636573\n",
      "Processing 637631\n",
      "Processing 642695\n",
      "Processing 1096277\n",
      "Processing 775621\n",
      "Processing 637897\n",
      "Processing 673457\n",
      "Processing 662376\n",
      "Processing 637265\n",
      "Processing 657226\n",
      "Processing 649141\n",
      "Processing 641627\n",
      "Processing 634888\n",
      "Processing 1095894\n",
      "Processing 635059\n",
      "Processing 1697611\n",
      "Processing 641845\n",
      "Processing 638549\n",
      "Processing 664011\n",
      "Processing 660273\n",
      "Processing 610281\n",
      "Processing 662391\n",
      "Processing 991010\n",
      "Processing 650377\n",
      "Processing 651190\n",
      "Processing 637102\n",
      "Processing 650546\n",
      "Processing 1066893\n",
      "Processing 1096060\n",
      "Processing 665146\n",
      "Processing 659058\n",
      "Processing 716426\n",
      "Processing 716311\n",
      "Processing 644826\n",
      "Processing 660231\n",
      "Processing 663150\n",
      "Processing 638642\n",
      "Processing 638649\n",
      "Processing 638369\n",
      "Processing 663169\n",
      "Processing 646425\n",
      "Processing 656777\n",
      "Processing 638722\n",
      "Processing 667701\n",
      "Processing 638714\n",
      "Processing 643808\n",
      "Processing 1095843\n",
      "Processing 633093\n",
      "Processing 658270\n",
      "Processing 662422\n",
      "Processing 642138\n",
      "Processing 649073\n",
      "------------------------\n",
      "Data Retrieval Complete\n"
     ]
    }
   ],
   "source": [
    "#Retrieve cuisine, recipe name, ingredient list, protein/serving, carbs/serving, and fat/serving for each recipe ID\n",
    "base_url_2 = \"https://api.spoonacular.com/recipes\"\n",
    "\n",
    "recipe_data_pt1 = []\n",
    "\n",
    "print('Beginning Data Retrieval')\n",
    "print('------------------------')\n",
    "# Parse out needed info from each recipe\n",
    "for id in recipe_id_list_pt1:\n",
    "    \n",
    "    target_url_2 = f\"{base_url_2}/{id}/information?apiKey={API_key}&includeNutrition=True\"\n",
    "    \n",
    "    print('Processing', id)\n",
    "    \n",
    "    try:\n",
    "        \n",
    "        recipe_info_2 = requests.get(target_url_2).json()\n",
    "        \n",
    "        recipe_id = recipe_info_2[\"id\"]\n",
    "        recipe_title = recipe_info_2[\"title\"]\n",
    "        recipe_cuisine = recipe_info_2[\"cuisines\"][0]\n",
    "        recipe_gluten = recipe_info_2[\"glutenFree\"]\n",
    "        recipe_dairy = recipe_info_2['dairyFree']\n",
    "        recipe_protein = recipe_info_2[\"nutrition\"][\"nutrients\"][8][\"amount\"]\n",
    "        recipe_carbs = recipe_info_2[\"nutrition\"][\"nutrients\"][3][\"amount\"]\n",
    "        recipe_fat = recipe_info_2[\"nutrition\"][\"nutrients\"][1][\"amount\"]\n",
    "        recipe_data_pt1.append({\"ID\": recipe_id,\n",
    "                            \"Title\": recipe_title,\n",
    "                            \"Cuisine\": recipe_cuisine,\n",
    "                            \"Gluten-free?\": recipe_gluten,\n",
    "                            \"Dairy-free?\": recipe_dairy,\n",
    "                            \"Protein/serving\": recipe_protein,\n",
    "                            \"Carbs/serving\": recipe_carbs,\n",
    "                            \"Fat/serving\": recipe_fat})\n",
    "        \n",
    "    except:\n",
    "        print(\"Recipe not found, skipping...\")\n",
    "        pass\n",
    "    \n",
    "print('------------------------')\n",
    "print('Data Retrieval Complete')"
   ]
  },
  {
   "cell_type": "code",
   "execution_count": 11,
   "metadata": {},
   "outputs": [],
   "source": [
    "#save recipe_data_pt1 to csv\n",
    "df = pd.DataFrame(recipe_data_pt1)\n",
    "     \n",
    "# saving the dataframe\n",
    "df.to_csv('recipe_data_pt1.csv')\n"
   ]
  },
  {
   "cell_type": "code",
   "execution_count": 12,
   "metadata": {},
   "outputs": [
    {
     "name": "stdout",
     "output_type": "stream",
     "text": [
      "Beginning Data Retrieval\n",
      "------------------------\n",
      "Processing 660707\n",
      "Processing 638717\n",
      "Processing 638668\n",
      "Processing 659038\n",
      "Processing 643786\n",
      "Processing 643832\n",
      "Processing 638631\n",
      "Processing 659906\n",
      "Processing 682619\n",
      "Processing 652354\n",
      "Processing 648475\n",
      "Processing 662744\n",
      "Processing 638693\n",
      "Processing 643011\n",
      "Processing 640323\n",
      "Processing 649129\n",
      "Processing 664551\n",
      "Processing 664650\n",
      "Processing 638729\n",
      "Recipe not found, skipping...\n",
      "Processing 664624\n",
      "Recipe not found, skipping...\n",
      "Processing 642125\n",
      "Processing 639741\n",
      "Recipe not found, skipping...\n",
      "Processing 795751\n",
      "Recipe not found, skipping...\n",
      "Processing 640062\n",
      "Recipe not found, skipping...\n",
      "Processing 715421\n",
      "Recipe not found, skipping...\n",
      "Processing 715543\n",
      "Processing 715533\n",
      "Recipe not found, skipping...\n",
      "Processing 715391\n",
      "Recipe not found, skipping...\n",
      "Processing 975070\n",
      "Processing 640117\n",
      "Recipe not found, skipping...\n",
      "Processing 715567\n",
      "Recipe not found, skipping...\n",
      "Processing 637157\n",
      "Recipe not found, skipping...\n",
      "Processing 664501\n",
      "Processing 645856\n",
      "Recipe not found, skipping...\n",
      "Processing 716290\n",
      "Recipe not found, skipping...\n",
      "Processing 658180\n",
      "Recipe not found, skipping...\n",
      "Processing 638588\n",
      "Processing 157399\n",
      "Recipe not found, skipping...\n",
      "Processing 643061\n",
      "Recipe not found, skipping...\n",
      "Processing 715438\n",
      "Recipe not found, skipping...\n",
      "Processing 635058\n",
      "Processing 1697763\n",
      "Recipe not found, skipping...\n",
      "Processing 1096017\n",
      "Recipe not found, skipping...\n",
      "Processing 659674\n",
      "Processing 645711\n",
      "Recipe not found, skipping...\n",
      "Processing 645863\n",
      "Recipe not found, skipping...\n",
      "Processing 635291\n",
      "Recipe not found, skipping...\n",
      "Processing 651977\n",
      "Processing 644044\n",
      "Recipe not found, skipping...\n",
      "Processing 1096057\n",
      "Recipe not found, skipping...\n",
      "Processing 1646941\n",
      "Recipe not found, skipping...\n",
      "Processing 659158\n",
      "Processing 1096005\n",
      "Recipe not found, skipping...\n",
      "Processing 659174\n",
      "Recipe not found, skipping...\n",
      "Processing 635077\n",
      "Recipe not found, skipping...\n",
      "Processing 661188\n",
      "Processing 664025\n",
      "Recipe not found, skipping...\n",
      "Processing 511707\n",
      "Recipe not found, skipping...\n",
      "Processing 645730\n",
      "Recipe not found, skipping...\n",
      "Processing 646427\n",
      "Processing 650798\n",
      "Recipe not found, skipping...\n",
      "Processing 1095842\n",
      "Recipe not found, skipping...\n",
      "Processing 645988\n",
      "Recipe not found, skipping...\n",
      "Processing 660943\n",
      "Processing 639413\n",
      "Recipe not found, skipping...\n",
      "------------------------\n",
      "Data Retrieval Complete\n"
     ]
    }
   ],
   "source": [
    "#Retrieve cuisine, recipe name, ingredient list, protein/serving, carbs/serving, and fat/serving for each recipe ID\n",
    "base_url_2 = \"https://api.spoonacular.com/recipes\"\n",
    "\n",
    "recipe_data_pt2 = []\n",
    "\n",
    "print('Beginning Data Retrieval')\n",
    "print('------------------------')\n",
    "# Parse out needed info from each recipe\n",
    "for id in recipe_id_list_pt2:\n",
    "    \n",
    "    target_url_2 = f\"{base_url_2}/{id}/information?apiKey={API_key}&includeNutrition=True\"\n",
    "    \n",
    "    print('Processing', id)\n",
    "    \n",
    "    try:\n",
    "        \n",
    "        recipe_info_2 = requests.get(target_url_2).json()\n",
    "        \n",
    "        recipe_id = recipe_info_2[\"id\"]\n",
    "        recipe_title = recipe_info_2[\"title\"]\n",
    "        recipe_cuisine = recipe_info_2[\"cuisines\"][0]\n",
    "        recipe_gluten = recipe_info_2[\"glutenFree\"]\n",
    "        recipe_dairy = recipe_info_2['dairyFree']\n",
    "        recipe_protein = recipe_info_2[\"nutrition\"][\"nutrients\"][8][\"amount\"]\n",
    "        recipe_carbs = recipe_info_2[\"nutrition\"][\"nutrients\"][3][\"amount\"]\n",
    "        recipe_fat = recipe_info_2[\"nutrition\"][\"nutrients\"][1][\"amount\"]\n",
    "        recipe_data_pt2.append({\"ID\": recipe_id,\n",
    "                            \"Title\": recipe_title,\n",
    "                            \"Cuisine\": recipe_cuisine,\n",
    "                            \"Gluten-free?\": recipe_gluten,\n",
    "                            \"Dairy-free?\": recipe_dairy,\n",
    "                            \"Protein/serving\": recipe_protein,\n",
    "                            \"Carbs/serving\": recipe_carbs,\n",
    "                            \"Fat/serving\": recipe_fat})\n",
    "        \n",
    "    except:\n",
    "        print(\"Recipe not found, skipping...\")\n",
    "        pass\n",
    "    \n",
    "print('------------------------')\n",
    "print('Data Retrieval Complete')"
   ]
  },
  {
   "cell_type": "code",
   "execution_count": 13,
   "metadata": {},
   "outputs": [
    {
     "data": {
      "text/html": [
       "<div>\n",
       "<style scoped>\n",
       "    .dataframe tbody tr th:only-of-type {\n",
       "        vertical-align: middle;\n",
       "    }\n",
       "\n",
       "    .dataframe tbody tr th {\n",
       "        vertical-align: top;\n",
       "    }\n",
       "\n",
       "    .dataframe thead th {\n",
       "        text-align: right;\n",
       "    }\n",
       "</style>\n",
       "<table border=\"1\" class=\"dataframe\">\n",
       "  <thead>\n",
       "    <tr style=\"text-align: right;\">\n",
       "      <th></th>\n",
       "      <th>0</th>\n",
       "      <th>1</th>\n",
       "    </tr>\n",
       "  </thead>\n",
       "  <tbody>\n",
       "    <tr>\n",
       "      <th>0</th>\n",
       "      <td>{'ID': 715424, 'Title': 'The Best Chili', 'Cui...</td>\n",
       "      <td>{'ID': 660707, 'Title': 'Southwest Egg Rolls w...</td>\n",
       "    </tr>\n",
       "    <tr>\n",
       "      <th>1</th>\n",
       "      <td>{'ID': 646512, 'Title': 'Salmon Caesar Salad',...</td>\n",
       "      <td>{'ID': 638717, 'Title': 'Chinese Steamed Flan'...</td>\n",
       "    </tr>\n",
       "    <tr>\n",
       "      <th>2</th>\n",
       "      <td>{'ID': 1046982, 'Title': 'How to Make the Perf...</td>\n",
       "      <td>{'ID': 638668, 'Title': 'Chinese Hot Pots Glut...</td>\n",
       "    </tr>\n",
       "    <tr>\n",
       "      <th>3</th>\n",
       "      <td>{'ID': 642540, 'Title': 'Falafel Burgers', 'Cu...</td>\n",
       "      <td>{'ID': 659038, 'Title': 'Salmon and Brown Rice...</td>\n",
       "    </tr>\n",
       "    <tr>\n",
       "      <th>4</th>\n",
       "      <td>{'ID': 639392, 'Title': 'Chunky Two-Bean Chili...</td>\n",
       "      <td>{'ID': 643786, 'Title': 'Fried Rice - Chinese ...</td>\n",
       "    </tr>\n",
       "  </tbody>\n",
       "</table>\n",
       "</div>"
      ],
      "text/plain": [
       "                                                   0  \\\n",
       "0  {'ID': 715424, 'Title': 'The Best Chili', 'Cui...   \n",
       "1  {'ID': 646512, 'Title': 'Salmon Caesar Salad',...   \n",
       "2  {'ID': 1046982, 'Title': 'How to Make the Perf...   \n",
       "3  {'ID': 642540, 'Title': 'Falafel Burgers', 'Cu...   \n",
       "4  {'ID': 639392, 'Title': 'Chunky Two-Bean Chili...   \n",
       "\n",
       "                                                   1  \n",
       "0  {'ID': 660707, 'Title': 'Southwest Egg Rolls w...  \n",
       "1  {'ID': 638717, 'Title': 'Chinese Steamed Flan'...  \n",
       "2  {'ID': 638668, 'Title': 'Chinese Hot Pots Glut...  \n",
       "3  {'ID': 659038, 'Title': 'Salmon and Brown Rice...  \n",
       "4  {'ID': 643786, 'Title': 'Fried Rice - Chinese ...  "
      ]
     },
     "execution_count": 13,
     "metadata": {},
     "output_type": "execute_result"
    }
   ],
   "source": [
    "#Create DataFrame with columns for cuisine, recipe name, recipe ID, ingredients, protein/serving, carbs/serving, fat/serving\n",
    "recipe_data_df = pd.DataFrame(list(zip(recipe_data_pt1, recipe_data_pt2)))\n",
    "recipe_data_df.head()"
   ]
  },
  {
   "attachments": {},
   "cell_type": "markdown",
   "metadata": {},
   "source": [
    "# Macro-nutrient Profiles"
   ]
  },
  {
   "cell_type": "code",
   "execution_count": 14,
   "metadata": {},
   "outputs": [
    {
     "data": {
      "text/plain": [
       "Text(0, 0.5, 'Recommended Macro-nutrient Ratio')"
      ]
     },
     "execution_count": 14,
     "metadata": {},
     "output_type": "execute_result"
    },
    {
     "data": {
      "image/png": "[encoded data removed]",
      "text/plain": [
       "<Figure size 640x480 with 1 Axes>"
      ]
     },
     "metadata": {},
     "output_type": "display_data"
    }
   ],
   "source": [
    "#Calculate macro-nutrient profile and create visualization for national recommendation and for each cuisine\n",
    "#Recommended\n",
    "percentages = [50, 30, 20]\n",
    "labels = [\"carbs\", \"fat\", \"protein\"]\n",
    "\n",
    "plt.pie(percentages, labels=labels, autopct='%1.1f%%')\n",
    "plt.ylabel(\"Recommended Macro-nutrient Ratio\")"
   ]
  },
  {
   "cell_type": "code",
   "execution_count": 15,
   "metadata": {},
   "outputs": [
    {
     "ename": "NameError",
     "evalue": "name 'recipe_data_2_df' is not defined",
     "output_type": "error",
     "traceback": [
      "\u001b[0;31m---------------------------------------------------------------------------\u001b[0m",
      "\u001b[0;31mNameError\u001b[0m                                 Traceback (most recent call last)",
      "Cell \u001b[0;32mIn[15], line 2\u001b[0m\n\u001b[1;32m      1\u001b[0m \u001b[39m#American\u001b[39;00m\n\u001b[0;32m----> 2\u001b[0m am_carbs \u001b[39m=\u001b[39m recipe_data_2_df\u001b[39m.\u001b[39mloc[recipe_data_2_df[\u001b[39m'\u001b[39m\u001b[39mCuisine\u001b[39m\u001b[39m'\u001b[39m] \u001b[39m==\u001b[39m \u001b[39m\"\u001b[39m\u001b[39mAmerican\u001b[39m\u001b[39m\"\u001b[39m, \u001b[39m'\u001b[39m\u001b[39mCarbs/serving\u001b[39m\u001b[39m'\u001b[39m]\n\u001b[1;32m      3\u001b[0m am_carbs \u001b[39m=\u001b[39m am_carbs\u001b[39m.\u001b[39mmean()\n\u001b[1;32m      5\u001b[0m am_fat \u001b[39m=\u001b[39m recipe_data_2_df\u001b[39m.\u001b[39mloc[recipe_data_2_df[\u001b[39m'\u001b[39m\u001b[39mCuisine\u001b[39m\u001b[39m'\u001b[39m] \u001b[39m==\u001b[39m \u001b[39m\"\u001b[39m\u001b[39mAmerican\u001b[39m\u001b[39m\"\u001b[39m, \u001b[39m'\u001b[39m\u001b[39mFat/serving\u001b[39m\u001b[39m'\u001b[39m]\n",
      "\u001b[0;31mNameError\u001b[0m: name 'recipe_data_2_df' is not defined"
     ]
    }
   ],
   "source": [
    "#American\n",
    "am_carbs = recipe_data_2_df.loc[recipe_data_2_df['Cuisine'] == \"American\", 'Carbs/serving']\n",
    "am_carbs = am_carbs.mean()\n",
    "\n",
    "am_fat = recipe_data_2_df.loc[recipe_data_2_df['Cuisine'] == \"American\", 'Fat/serving']\n",
    "am_fat = am_fat.mean()\n",
    "\n",
    "am_protein = recipe_data_2_df.loc[recipe_data_2_df['Cuisine'] == \"American\", 'Protein/serving']\n",
    "am_protein = am_protein.mean()\n",
    "\n",
    "am_averages = [am_carbs, am_fat, am_protein]\n",
    "labels = [\"carbs\", \"fat\", \"protein\"]\n",
    "\n",
    "plt.pie(am_averages, labels=labels, autopct='%1.1f%%')\n",
    "plt.ylabel(\"American Cuisine Macro-nutrient Profile\")"
   ]
  },
  {
   "cell_type": "code",
   "execution_count": null,
   "metadata": {},
   "outputs": [
    {
     "data": {
      "text/plain": [
       "Text(0, 0.5, 'Chinese Cuisine Macro-nutrient Profile')"
      ]
     },
     "execution_count": 27,
     "metadata": {},
     "output_type": "execute_result"
    },
    {
     "data": {
      "image/png": "[encoded data removed]",
      "text/plain": [
       "<Figure size 640x480 with 1 Axes>"
      ]
     },
     "metadata": {},
     "output_type": "display_data"
    }
   ],
   "source": [
    "#Chinese\n",
    "ch_carbs = recipe_data_2_df.loc[recipe_data_2_df['Cuisine'] == \"Chinese\", 'Carbs/serving']\n",
    "ch_carbs = ch_carbs.mean()\n",
    "\n",
    "ch_fat = recipe_data_2_df.loc[recipe_data_2_df['Cuisine'] == \"Chinese\", 'Fat/serving']\n",
    "ch_fat = ch_fat.mean()\n",
    "\n",
    "ch_protein = recipe_data_2_df.loc[recipe_data_2_df['Cuisine'] == \"Chinese\", 'Protein/serving']\n",
    "ch_protein = ch_protein.mean()\n",
    "\n",
    "ch_averages = [ch_carbs, ch_fat, ch_protein]\n",
    "labels = [\"carbs\", \"fat\", \"protein\"]\n",
    "\n",
    "plt.pie(ch_averages, labels=labels, autopct='%1.1f%%')\n",
    "plt.ylabel(\"Chinese Cuisine Macro-nutrient Profile\")"
   ]
  },
  {
   "cell_type": "code",
   "execution_count": null,
   "metadata": {},
   "outputs": [
    {
     "data": {
      "text/plain": [
       "Text(0, 0.5, 'Mexican Cuisine Macro-nutrient Profile')"
      ]
     },
     "execution_count": 29,
     "metadata": {},
     "output_type": "execute_result"
    },
    {
     "data": {
      "image/png": "[encoded data removed]",
      "text/plain": [
       "<Figure size 640x480 with 1 Axes>"
      ]
     },
     "metadata": {},
     "output_type": "display_data"
    }
   ],
   "source": [
    "#Mexican\n",
    "mx_carbs = recipe_data_2_df.loc[recipe_data_2_df['Cuisine'] == \"Mexican\", 'Carbs/serving']\n",
    "mx_carbs = mx_carbs.mean()\n",
    "\n",
    "mx_fat = recipe_data_2_df.loc[recipe_data_2_df['Cuisine'] == \"Mexican\", 'Fat/serving']\n",
    "mx_fat = mx_fat.mean()\n",
    "\n",
    "mx_protein = recipe_data_2_df.loc[recipe_data_2_df['Cuisine'] == \"Mexican\", 'Protein/serving']\n",
    "mx_protein = mx_protein.mean()\n",
    "\n",
    "mx_averages = [mx_carbs, mx_fat, mx_protein]\n",
    "labels = [\"carbs\", \"fat\", \"protein\"]\n",
    "\n",
    "plt.pie(mx_averages, labels=labels, autopct='%1.1f%%')\n",
    "plt.ylabel(\"Mexican Cuisine Macro-nutrient Profile\")"
   ]
  },
  {
   "attachments": {},
   "cell_type": "markdown",
   "metadata": {},
   "source": [
    "# Accessibility"
   ]
  },
  {
   "cell_type": "code",
   "execution_count": null,
   "metadata": {},
   "outputs": [],
   "source": [
    "#Calculate percentage of recipes that contain gluten or dairy and create visualization per cuisine\n",
    "# (dairy (milk, yogurt, cheese, butter, cream), \n",
    "# nuts (almonds, pecans, pistachios, walnuts, peanuts, peanut),\n",
    "# gluten (wheat, [other grains], all-purpose flour, bread, breadcrumbs, dough)"
   ]
  },
  {
   "cell_type": "code",
   "execution_count": null,
   "metadata": {},
   "outputs": [],
   "source": [
    "#American\n"
   ]
  },
  {
   "cell_type": "code",
   "execution_count": null,
   "metadata": {},
   "outputs": [],
   "source": [
    "#Chinese"
   ]
  },
  {
   "cell_type": "code",
   "execution_count": null,
   "metadata": {},
   "outputs": [],
   "source": [
    "#Mexican"
   ]
  },
  {
   "attachments": {},
   "cell_type": "markdown",
   "metadata": {},
   "source": [
    "# Statistical Analysis"
   ]
  },
  {
   "cell_type": "code",
   "execution_count": null,
   "metadata": {},
   "outputs": [],
   "source": [
    "#Organize macro-nutrient profiles from least to most balanced (least to most closely matching UDH's recommendation)\n"
   ]
  },
  {
   "cell_type": "code",
   "execution_count": null,
   "metadata": {},
   "outputs": [],
   "source": [
    "#Organize accessibility of each cuisine from least to most accessible \n",
    "#(highest to lowest percentage of recipes containing major allergens)"
   ]
  },
  {
   "cell_type": "code",
   "execution_count": null,
   "metadata": {},
   "outputs": [],
   "source": [
    "#calculate line regression\n",
    "\n",
    "#plot scatter plot"
   ]
  },
  {
   "cell_type": "code",
   "execution_count": null,
   "metadata": {},
   "outputs": [],
   "source": [
    "#Identify most balanced and accessible cuisine(s)"
   ]
  }
 ],
 "metadata": {
  "kernelspec": {
   "display_name": "base",
   "language": "python",
   "name": "python3"
  },
  "language_info": {
   "codemirror_mode": {
    "name": "ipython",
    "version": 3
   },
   "file_extension": ".py",
   "mimetype": "text/x-python",
   "name": "python",
   "nbconvert_exporter": "python",
   "pygments_lexer": "ipython3",
   "version": "3.11.3"
  },
  "orig_nbformat": 4
 },
 "nbformat": 4,
 "nbformat_minor": 2
}
